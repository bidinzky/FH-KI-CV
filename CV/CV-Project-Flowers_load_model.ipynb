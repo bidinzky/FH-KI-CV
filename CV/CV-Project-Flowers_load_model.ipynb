{
 "cells": [
  {
   "cell_type": "markdown",
   "id": "99c11103",
   "metadata": {},
   "source": [
    "This file loads an existing model and starts another training round"
   ]
  },
  {
   "cell_type": "code",
   "execution_count": 1,
   "id": "c22a7ecb-9693-4e42-9076-0af69ce1213b",
   "metadata": {},
   "outputs": [
    {
     "name": "stdout",
     "output_type": "stream",
     "text": [
      "/Users/stefanbeller/Documents/SoftwareProjects/online/FH-KI-CV\n"
     ]
    }
   ],
   "source": [
    "import os\n",
    "print(os.getcwd())\n",
    "#os.chdir(\"Project\")\n",
    "#print(os.getcwd())\n",
    "\n",
    "#put the model names here\n",
    "\n",
    "existing_model = \"model_v1\"\n",
    "save_model_as = \"model_v1_improve_01\"\n",
    "\n"
   ]
  },
  {
   "cell_type": "code",
   "execution_count": 2,
   "id": "53567ea8-66ea-45ec-ba5f-2c3d0e1909de",
   "metadata": {},
   "outputs": [],
   "source": [
    "import datetime\n",
    "log_dir = \"logs/fit/\" + datetime.datetime.now().strftime(\"%Y%m%d-%H%M%S\")"
   ]
  },
  {
   "cell_type": "code",
   "execution_count": 3,
   "id": "1dde8f70",
   "metadata": {},
   "outputs": [],
   "source": [
    "# Read in label file and return a dictionary {'filename' : label}.\n",
    "#\n",
    "def import_labels(label_file):\n",
    "    labels = dict()\n",
    "\n",
    "    import csv\n",
    "    with open(label_file) as fd:\n",
    "        csvreader = csv.DictReader(fd)\n",
    "\n",
    "        for row in csvreader:\n",
    "            labels[row['filename']] = int(row['label'])\n",
    "    return labels"
   ]
  },
  {
   "cell_type": "code",
   "execution_count": 16,
   "id": "ffaa6579",
   "metadata": {},
   "outputs": [
    {
     "ename": "ModuleNotFoundError",
     "evalue": "No module named 'tf'",
     "output_type": "error",
     "traceback": [
      "\u001b[0;31m---------------------------------------------------------------------------\u001b[0m",
      "\u001b[0;31mModuleNotFoundError\u001b[0m                       Traceback (most recent call last)",
      "\u001b[1;32m/Users/stefanbeller/Documents/SoftwareProjects/online/FH-KI-CV/CV-Project-Flowers_load_model.ipynb Cell 5'\u001b[0m in \u001b[0;36m<cell line: 4>\u001b[0;34m()\u001b[0m\n\u001b[1;32m      <a href='vscode-notebook-cell:/Users/stefanbeller/Documents/SoftwareProjects/online/FH-KI-CV/CV-Project-Flowers_load_model.ipynb#ch0000005?line=0'>1</a>\u001b[0m \u001b[39mimport\u001b[39;00m \u001b[39mnumpy\u001b[39;00m \u001b[39mas\u001b[39;00m \u001b[39mnp\u001b[39;00m\n\u001b[1;32m      <a href='vscode-notebook-cell:/Users/stefanbeller/Documents/SoftwareProjects/online/FH-KI-CV/CV-Project-Flowers_load_model.ipynb#ch0000005?line=1'>2</a>\u001b[0m \u001b[39mimport\u001b[39;00m \u001b[39mtensorflow\u001b[39;00m \u001b[39mas\u001b[39;00m \u001b[39mtf\u001b[39;00m\n\u001b[0;32m----> <a href='vscode-notebook-cell:/Users/stefanbeller/Documents/SoftwareProjects/online/FH-KI-CV/CV-Project-Flowers_load_model.ipynb#ch0000005?line=3'>4</a>\u001b[0m \u001b[39mimport\u001b[39;00m \u001b[39mtf\u001b[39;00m\u001b[39m.\u001b[39;00m\u001b[39mkeras\u001b[39;00m \u001b[39mas\u001b[39;00m \u001b[39mkeras\u001b[39;00m\n\u001b[1;32m      <a href='vscode-notebook-cell:/Users/stefanbeller/Documents/SoftwareProjects/online/FH-KI-CV/CV-Project-Flowers_load_model.ipynb#ch0000005?line=4'>5</a>\u001b[0m \u001b[39mfrom\u001b[39;00m \u001b[39mtf\u001b[39;00m\u001b[39m.\u001b[39;00m\u001b[39mkeras\u001b[39;00m\u001b[39m.\u001b[39;00m\u001b[39mpreprocessing\u001b[39;00m \u001b[39mimport\u001b[39;00m image\n\u001b[1;32m      <a href='vscode-notebook-cell:/Users/stefanbeller/Documents/SoftwareProjects/online/FH-KI-CV/CV-Project-Flowers_load_model.ipynb#ch0000005?line=7'>8</a>\u001b[0m \u001b[39m#tf.debugging.experimental.enable_dump_debug_info(log_dir, tensor_debug_mode=\"FULL_HEALTH\", circular_buffer_size=-1)\u001b[39;00m\n",
      "\u001b[0;31mModuleNotFoundError\u001b[0m: No module named 'tf'"
     ]
    }
   ],
   "source": [
    "import tensorflow.keras as keras\n",
    "from tensorflow.keras.preprocessing import image\n",
    "\n",
    "import numpy as np\n",
    "import tensorflow as tf\n",
    "#tf.debugging.experimental.enable_dump_debug_info(log_dir, tensor_debug_mode=\"FULL_HEALTH\", circular_buffer_size=-1)\n",
    "\n",
    "class DataGenerator(keras.utils.Sequence):\n",
    "\n",
    "    def __init__(self, img_root_dir, labels_dict, batch_size, target_dim, preprocess_func=None, use_augmentation=False):\n",
    "        self._labels_dict = labels_dict\n",
    "        self._img_root_dir = img_root_dir\n",
    "        self._batch_size = batch_size\n",
    "        self._target_dim = target_dim\n",
    "        self._preprocess_func = preprocess_func\n",
    "        self._n_classes = len(set(self._labels_dict.values()))\n",
    "        self._fnames_all = list(self._labels_dict.keys())\n",
    "        self._use_augmentation = use_augmentation\n",
    "\n",
    "        if self._use_augmentation:\n",
    "            self._augmentor = image.ImageDataGenerator(\n",
    "                rotation_range=40,\n",
    "                width_shift_range=0.2,\n",
    "                height_shift_range=0.2,\n",
    "                shear_range=0.2,\n",
    "                zoom_range=0.2,\n",
    "                horizontal_flip=True,\n",
    "                fill_mode='nearest'\n",
    "            )\n",
    "        self.on_epoch_end()\n",
    "\n",
    "    def __len__(self):\n",
    "        return int(np.floor(len(self._fnames_all)) / self._batch_size)\n",
    "\n",
    "    def on_epoch_end(self):\n",
    "        self._indices = np.arange(len(self._fnames_all))\n",
    "        np.random.shuffle(self._indices)\n",
    "\n",
    "    def __getitem__(self, index):\n",
    "        indices = self._indices[index * self._batch_size:(index+1)*self._batch_size]\n",
    "\n",
    "        fnames = [self._fnames_all[k] for k in indices]\n",
    "        X,Y = self.__load_files__(fnames)\n",
    "\n",
    "        return X,Y\n",
    "\n",
    "    def __load_files__(self, batch_filenames):\n",
    "        X = np.empty((self._batch_size, *self._target_dim, 3))\n",
    "        Y = np.empty((self._batch_size), dtype=int)\n",
    "\n",
    "        for idx, fname in enumerate(batch_filenames):\n",
    "            img_path = os.path.join(self._img_root_dir, fname)\n",
    "            img = image.load_img(img_path, target_size=self._target_dim)\n",
    "            x = image.img_to_array(img)\n",
    "            if self._preprocess_func is not None:\n",
    "                x = self._preprocess_func(x)\n",
    "\n",
    "            X[idx,:] = x \n",
    "            Y[idx] = self._labels_dict[fname]-1\n",
    "\n",
    "        if self._use_augmentation:\n",
    "            it = self._augmentor.flow(X, batch_size=self._batch_size, shuffle=False)\n",
    "            X = it.next()\n",
    "\n",
    "        if self._preprocess_func is not None:\n",
    "            X = self._preprocess_func(X)\n",
    "\n",
    "        return X, tf.keras.utils.to_categorical(Y, num_classes=self._n_classes)"
   ]
  },
  {
   "cell_type": "code",
   "execution_count": 5,
   "id": "29fb036b",
   "metadata": {},
   "outputs": [],
   "source": [
    "from tensorflow.keras.utils import to_categorical\n",
    "y_train = import_labels(\"train_labels.csv\")\n",
    "y_test = import_labels(\"test_labels.csv\")\n",
    "batch_size=5\n",
    "image_size = (224, 224)"
   ]
  },
  {
   "cell_type": "code",
   "execution_count": 6,
   "id": "62d929e0-21ed-4147-939c-859ef3b127b4",
   "metadata": {},
   "outputs": [],
   "source": [
    "def preprocess_func(x):\n",
    "    return x / 255.0"
   ]
  },
  {
   "cell_type": "code",
   "execution_count": 7,
   "id": "1f0b3b56-d45c-4ed8-ae14-7bef82b6f05d",
   "metadata": {},
   "outputs": [],
   "source": [
    "datagen_train = DataGenerator('train', y_train, batch_size, image_size, preprocess_func=preprocess_func, use_augmentation=True)\n",
    "datagen_test = DataGenerator('test', y_test, batch_size, image_size, preprocess_func=preprocess_func)"
   ]
  },
  {
   "cell_type": "code",
   "execution_count": 8,
   "id": "fa187b05-70ef-4ab9-bfc1-10794d6ae719",
   "metadata": {},
   "outputs": [],
   "source": [
    "lr_schedule = keras.optimizers.schedules.ExponentialDecay(\n",
    "    initial_learning_rate=0.01,\n",
    "    decay_steps=10000,\n",
    "    decay_rate=0.9)"
   ]
  },
  {
   "cell_type": "code",
   "execution_count": 11,
   "id": "1add08ca-221c-42f7-9029-708f2514ff25",
   "metadata": {},
   "outputs": [
    {
     "name": "stdout",
     "output_type": "stream",
     "text": [
      "Metal device set to: Apple M1 Pro\n",
      "\n",
      "systemMemory: 16.00 GB\n",
      "maxCacheSize: 5.33 GB\n",
      "\n"
     ]
    },
    {
     "name": "stderr",
     "output_type": "stream",
     "text": [
      "2022-05-24 21:07:48.409575: I tensorflow/core/common_runtime/pluggable_device/pluggable_device_factory.cc:305] Could not identify NUMA node of platform GPU ID 0, defaulting to 0. Your kernel may not have been built with NUMA support.\n",
      "2022-05-24 21:07:48.409937: I tensorflow/core/common_runtime/pluggable_device/pluggable_device_factory.cc:271] Created TensorFlow device (/job:localhost/replica:0/task:0/device:GPU:0 with 0 MB memory) -> physical PluggableDevice (device: 0, name: METAL, pci bus id: <undefined>)\n"
     ]
    }
   ],
   "source": [
    "from tensorflow.keras.optimizers import Adam\n",
    "from tensorflow.keras import layers\n",
    "\n",
    "model = tf.keras.models.load_model(existing_model)"
   ]
  },
  {
   "cell_type": "code",
   "execution_count": 12,
   "id": "c2df0553-5d76-44f7-bb69-beea0bbdba20",
   "metadata": {},
   "outputs": [],
   "source": [
    "import tensorflow as tf\n",
    "cp_callback = tf.keras.callbacks.ModelCheckpoint(filepath=\"training.ckpt\",\n",
    "                                                 save_weights_only=True,\n",
    "                                                 verbose=1)\n",
    "\n",
    "\n",
    "tensorboard_callback = tf.keras.callbacks.TensorBoard(log_dir=log_dir, histogram_freq=1)"
   ]
  },
  {
   "cell_type": "code",
   "execution_count": null,
   "id": "35ee4357-0fb6-45af-80e0-3c5c95ef082f",
   "metadata": {},
   "outputs": [],
   "source": [
    "#model.load_weights(\"training.ckpt\")"
   ]
  },
  {
   "cell_type": "code",
   "execution_count": 13,
   "id": "94ad920c-652a-47f1-a467-4ef8cd688f50",
   "metadata": {},
   "outputs": [
    {
     "name": "stderr",
     "output_type": "stream",
     "text": [
      "2022-05-24 21:08:12.677422: W tensorflow/core/platform/profile_utils/cpu_utils.cc:128] Failed to get CPU frequency: 0 Hz\n",
      "2022-05-24 21:08:13.002973: I tensorflow/core/grappler/optimizers/custom_graph_optimizer_registry.cc:113] Plugin optimizer for device_type GPU is enabled.\n"
     ]
    },
    {
     "name": "stdout",
     "output_type": "stream",
     "text": [
      "1097/1097 [==============================] - ETA: 0s - loss: 2.5178 - accuracy: 0.3672"
     ]
    },
    {
     "name": "stderr",
     "output_type": "stream",
     "text": [
      "2022-05-24 21:13:05.040783: I tensorflow/core/grappler/optimizers/custom_graph_optimizer_registry.cc:113] Plugin optimizer for device_type GPU is enabled.\n"
     ]
    },
    {
     "name": "stdout",
     "output_type": "stream",
     "text": [
      "\n",
      "Epoch 1: saving model to training.ckpt\n",
      "1097/1097 [==============================] - 308s 280ms/step - loss: 2.5178 - accuracy: 0.3672 - val_loss: 5.6813 - val_accuracy: 0.1837\n"
     ]
    }
   ],
   "source": [
    "# Train model on dataset\n",
    "history = model.fit(datagen_train, validation_data=datagen_test, epochs=1,callbacks=[cp_callback\n",
    "                                                                          # ,tensorboard_callback\n",
    "                                                                          ])"
   ]
  },
  {
   "cell_type": "code",
   "execution_count": 14,
   "id": "597a54cd-24b2-4351-ab1c-0cde9d7d825a",
   "metadata": {},
   "outputs": [
    {
     "data": {
      "image/png": "[encoded data removed]",
      "text/plain": [
       "<Figure size 432x288 with 1 Axes>"
      ]
     },
     "metadata": {
      "needs_background": "light"
     },
     "output_type": "display_data"
    },
    {
     "data": {
      "image/png": "[encoded data removed]",
      "text/plain": [
       "<Figure size 432x288 with 1 Axes>"
      ]
     },
     "metadata": {
      "needs_background": "light"
     },
     "output_type": "display_data"
    }
   ],
   "source": [
    "import matplotlib.pyplot as plt\n",
    "plt.plot(history.history['accuracy'])\n",
    "plt.plot(history.history['val_accuracy'])\n",
    "plt.title('model accuracy')\n",
    "plt.ylabel('accuracy')\n",
    "plt.xlabel('epoch')\n",
    "plt.legend(['train', 'test'], loc='upper left')\n",
    "plt.show()\n",
    "# summarize history for loss\n",
    "\n",
    "plt.plot(history.history['loss'])\n",
    "plt.plot(history.history['val_loss'])\n",
    "plt.title('model loss')\n",
    "plt.ylabel('loss')\n",
    "plt.xlabel('epoch')\n",
    "plt.legend(['train', 'test'], loc='upper left')\n",
    "plt.show()"
   ]
  },
  {
   "cell_type": "code",
   "execution_count": 15,
   "id": "dd35d225-bc98-4f31-92a0-214a09b4328b",
   "metadata": {},
   "outputs": [
    {
     "name": "stderr",
     "output_type": "stream",
     "text": [
      "2022-05-24 21:13:51.365412: W tensorflow/python/util/util.cc:368] Sets are not currently considered sequences, but this may change in the future, so consider avoiding using them.\n",
      "WARNING:absl:Found untraced functions such as restored_function_body, restored_function_body, restored_function_body, restored_function_body, restored_function_body while saving (showing 5 of 5). These functions will not be directly callable after loading.\n"
     ]
    },
    {
     "name": "stdout",
     "output_type": "stream",
     "text": [
      "INFO:tensorflow:Assets written to: model_24_05_2022/assets\n"
     ]
    },
    {
     "name": "stderr",
     "output_type": "stream",
     "text": [
      "INFO:tensorflow:Assets written to: model_24_05_2022/assets\n"
     ]
    }
   ],
   "source": [
    "model.save(save_model_as)"
   ]
  },
  {
   "cell_type": "markdown",
   "id": "44084d93-10d0-477e-88d8-c867a8439327",
   "metadata": {},
   "source": [
    "##### "
   ]
  }
 ],
 "metadata": {
  "interpreter": {
   "hash": "62ea753f7e5c40da959618c5bbb702665220061772d3bf458531278c9b01fd65"
  },
  "kernelspec": {
   "display_name": "Python 3.9.12 ('base')",
   "language": "python",
   "name": "python3"
  },
  "language_info": {
   "codemirror_mode": {
    "name": "ipython",
    "version": 3
   },
   "file_extension": ".py",
   "mimetype": "text/x-python",
   "name": "python",
   "nbconvert_exporter": "python",
   "pygments_lexer": "ipython3",
   "version": "3.9.12"
  }
 },
 "nbformat": 4,
 "nbformat_minor": 5
}
